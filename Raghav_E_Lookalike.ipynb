{
  "nbformat": 4,
  "nbformat_minor": 0,
  "metadata": {
    "colab": {
      "provenance": []
    },
    "kernelspec": {
      "name": "python3",
      "display_name": "Python 3"
    },
    "language_info": {
      "name": "python"
    }
  },
  "cells": [
    {
      "cell_type": "code",
      "execution_count": null,
      "metadata": {
        "id": "9Yho60mur4lQ"
      },
      "outputs": [],
      "source": [
        "import pandas as pd\n",
        "from sklearn.metrics.pairwise import cosine_similarity"
      ]
    },
    {
      "cell_type": "code",
      "source": [
        "from google.colab import files\n",
        "uploaded = files.upload()\n"
      ],
      "metadata": {
        "colab": {
          "base_uri": "https://localhost:8080/",
          "height": 142
        },
        "id": "JMZGNOkhsz2z",
        "outputId": "9d4f7c22-dfba-4e01-d7a4-bd09634fc12f"
      },
      "execution_count": null,
      "outputs": [
        {
          "output_type": "display_data",
          "data": {
            "text/plain": [
              "<IPython.core.display.HTML object>"
            ],
            "text/html": [
              "\n",
              "     <input type=\"file\" id=\"files-b7bf67bb-b460-42b0-bca0-a7de2fd6e05c\" name=\"files[]\" multiple disabled\n",
              "        style=\"border:none\" />\n",
              "     <output id=\"result-b7bf67bb-b460-42b0-bca0-a7de2fd6e05c\">\n",
              "      Upload widget is only available when the cell has been executed in the\n",
              "      current browser session. Please rerun this cell to enable.\n",
              "      </output>\n",
              "      <script>// Copyright 2017 Google LLC\n",
              "//\n",
              "// Licensed under the Apache License, Version 2.0 (the \"License\");\n",
              "// you may not use this file except in compliance with the License.\n",
              "// You may obtain a copy of the License at\n",
              "//\n",
              "//      http://www.apache.org/licenses/LICENSE-2.0\n",
              "//\n",
              "// Unless required by applicable law or agreed to in writing, software\n",
              "// distributed under the License is distributed on an \"AS IS\" BASIS,\n",
              "// WITHOUT WARRANTIES OR CONDITIONS OF ANY KIND, either express or implied.\n",
              "// See the License for the specific language governing permissions and\n",
              "// limitations under the License.\n",
              "\n",
              "/**\n",
              " * @fileoverview Helpers for google.colab Python module.\n",
              " */\n",
              "(function(scope) {\n",
              "function span(text, styleAttributes = {}) {\n",
              "  const element = document.createElement('span');\n",
              "  element.textContent = text;\n",
              "  for (const key of Object.keys(styleAttributes)) {\n",
              "    element.style[key] = styleAttributes[key];\n",
              "  }\n",
              "  return element;\n",
              "}\n",
              "\n",
              "// Max number of bytes which will be uploaded at a time.\n",
              "const MAX_PAYLOAD_SIZE = 100 * 1024;\n",
              "\n",
              "function _uploadFiles(inputId, outputId) {\n",
              "  const steps = uploadFilesStep(inputId, outputId);\n",
              "  const outputElement = document.getElementById(outputId);\n",
              "  // Cache steps on the outputElement to make it available for the next call\n",
              "  // to uploadFilesContinue from Python.\n",
              "  outputElement.steps = steps;\n",
              "\n",
              "  return _uploadFilesContinue(outputId);\n",
              "}\n",
              "\n",
              "// This is roughly an async generator (not supported in the browser yet),\n",
              "// where there are multiple asynchronous steps and the Python side is going\n",
              "// to poll for completion of each step.\n",
              "// This uses a Promise to block the python side on completion of each step,\n",
              "// then passes the result of the previous step as the input to the next step.\n",
              "function _uploadFilesContinue(outputId) {\n",
              "  const outputElement = document.getElementById(outputId);\n",
              "  const steps = outputElement.steps;\n",
              "\n",
              "  const next = steps.next(outputElement.lastPromiseValue);\n",
              "  return Promise.resolve(next.value.promise).then((value) => {\n",
              "    // Cache the last promise value to make it available to the next\n",
              "    // step of the generator.\n",
              "    outputElement.lastPromiseValue = value;\n",
              "    return next.value.response;\n",
              "  });\n",
              "}\n",
              "\n",
              "/**\n",
              " * Generator function which is called between each async step of the upload\n",
              " * process.\n",
              " * @param {string} inputId Element ID of the input file picker element.\n",
              " * @param {string} outputId Element ID of the output display.\n",
              " * @return {!Iterable<!Object>} Iterable of next steps.\n",
              " */\n",
              "function* uploadFilesStep(inputId, outputId) {\n",
              "  const inputElement = document.getElementById(inputId);\n",
              "  inputElement.disabled = false;\n",
              "\n",
              "  const outputElement = document.getElementById(outputId);\n",
              "  outputElement.innerHTML = '';\n",
              "\n",
              "  const pickedPromise = new Promise((resolve) => {\n",
              "    inputElement.addEventListener('change', (e) => {\n",
              "      resolve(e.target.files);\n",
              "    });\n",
              "  });\n",
              "\n",
              "  const cancel = document.createElement('button');\n",
              "  inputElement.parentElement.appendChild(cancel);\n",
              "  cancel.textContent = 'Cancel upload';\n",
              "  const cancelPromise = new Promise((resolve) => {\n",
              "    cancel.onclick = () => {\n",
              "      resolve(null);\n",
              "    };\n",
              "  });\n",
              "\n",
              "  // Wait for the user to pick the files.\n",
              "  const files = yield {\n",
              "    promise: Promise.race([pickedPromise, cancelPromise]),\n",
              "    response: {\n",
              "      action: 'starting',\n",
              "    }\n",
              "  };\n",
              "\n",
              "  cancel.remove();\n",
              "\n",
              "  // Disable the input element since further picks are not allowed.\n",
              "  inputElement.disabled = true;\n",
              "\n",
              "  if (!files) {\n",
              "    return {\n",
              "      response: {\n",
              "        action: 'complete',\n",
              "      }\n",
              "    };\n",
              "  }\n",
              "\n",
              "  for (const file of files) {\n",
              "    const li = document.createElement('li');\n",
              "    li.append(span(file.name, {fontWeight: 'bold'}));\n",
              "    li.append(span(\n",
              "        `(${file.type || 'n/a'}) - ${file.size} bytes, ` +\n",
              "        `last modified: ${\n",
              "            file.lastModifiedDate ? file.lastModifiedDate.toLocaleDateString() :\n",
              "                                    'n/a'} - `));\n",
              "    const percent = span('0% done');\n",
              "    li.appendChild(percent);\n",
              "\n",
              "    outputElement.appendChild(li);\n",
              "\n",
              "    const fileDataPromise = new Promise((resolve) => {\n",
              "      const reader = new FileReader();\n",
              "      reader.onload = (e) => {\n",
              "        resolve(e.target.result);\n",
              "      };\n",
              "      reader.readAsArrayBuffer(file);\n",
              "    });\n",
              "    // Wait for the data to be ready.\n",
              "    let fileData = yield {\n",
              "      promise: fileDataPromise,\n",
              "      response: {\n",
              "        action: 'continue',\n",
              "      }\n",
              "    };\n",
              "\n",
              "    // Use a chunked sending to avoid message size limits. See b/62115660.\n",
              "    let position = 0;\n",
              "    do {\n",
              "      const length = Math.min(fileData.byteLength - position, MAX_PAYLOAD_SIZE);\n",
              "      const chunk = new Uint8Array(fileData, position, length);\n",
              "      position += length;\n",
              "\n",
              "      const base64 = btoa(String.fromCharCode.apply(null, chunk));\n",
              "      yield {\n",
              "        response: {\n",
              "          action: 'append',\n",
              "          file: file.name,\n",
              "          data: base64,\n",
              "        },\n",
              "      };\n",
              "\n",
              "      let percentDone = fileData.byteLength === 0 ?\n",
              "          100 :\n",
              "          Math.round((position / fileData.byteLength) * 100);\n",
              "      percent.textContent = `${percentDone}% done`;\n",
              "\n",
              "    } while (position < fileData.byteLength);\n",
              "  }\n",
              "\n",
              "  // All done.\n",
              "  yield {\n",
              "    response: {\n",
              "      action: 'complete',\n",
              "    }\n",
              "  };\n",
              "}\n",
              "\n",
              "scope.google = scope.google || {};\n",
              "scope.google.colab = scope.google.colab || {};\n",
              "scope.google.colab._files = {\n",
              "  _uploadFiles,\n",
              "  _uploadFilesContinue,\n",
              "};\n",
              "})(self);\n",
              "</script> "
            ]
          },
          "metadata": {}
        },
        {
          "output_type": "stream",
          "name": "stdout",
          "text": [
            "Saving Customers.csv to Customers (1).csv\n",
            "Saving Products.csv to Products (1).csv\n",
            "Saving Transactions.csv to Transactions (1).csv\n"
          ]
        }
      ]
    },
    {
      "cell_type": "code",
      "source": [
        "customers = pd.read_csv('Customers.csv')\n",
        "products = pd.read_csv('Products.csv')\n",
        "transactions = pd.read_csv('Transactions.csv')\n"
      ],
      "metadata": {
        "id": "FSPVe2ixthU-"
      },
      "execution_count": null,
      "outputs": []
    },
    {
      "cell_type": "code",
      "source": [
        "merged_data = transactions.merge(customers, on='CustomerID').merge(products, on='ProductID')\n",
        "print(merged_data.head())\n"
      ],
      "metadata": {
        "colab": {
          "base_uri": "https://localhost:8080/"
        },
        "id": "cjQbtIOVtoIt",
        "outputId": "c3797635-2b72-45e7-fda0-9a95f45d6ef9"
      },
      "execution_count": null,
      "outputs": [
        {
          "output_type": "stream",
          "name": "stdout",
          "text": [
            "  TransactionID CustomerID ProductID      TransactionDate  Quantity  \\\n",
            "0        T00001      C0199      P067  2024-08-25 12:38:23         1   \n",
            "1        T00112      C0146      P067  2024-05-27 22:23:54         1   \n",
            "2        T00166      C0127      P067  2024-04-25 07:38:55         1   \n",
            "3        T00272      C0087      P067  2024-03-26 22:55:37         2   \n",
            "4        T00363      C0070      P067  2024-03-21 15:10:10         3   \n",
            "\n",
            "   TotalValue  Price_x     CustomerName         Region  SignupDate  \\\n",
            "0      300.68   300.68   Andrea Jenkins         Europe  2022-12-03   \n",
            "1      300.68   300.68  Brittany Harvey           Asia  2024-09-04   \n",
            "2      300.68   300.68  Kathryn Stevens         Europe  2024-04-04   \n",
            "3      601.36   300.68  Travis Campbell  South America  2024-04-11   \n",
            "4      902.04   300.68    Timothy Perez         Europe  2022-03-15   \n",
            "\n",
            "                       ProductName     Category  Price_y  \n",
            "0  ComfortLiving Bluetooth Speaker  Electronics   300.68  \n",
            "1  ComfortLiving Bluetooth Speaker  Electronics   300.68  \n",
            "2  ComfortLiving Bluetooth Speaker  Electronics   300.68  \n",
            "3  ComfortLiving Bluetooth Speaker  Electronics   300.68  \n",
            "4  ComfortLiving Bluetooth Speaker  Electronics   300.68  \n"
          ]
        }
      ]
    },
    {
      "cell_type": "code",
      "source": [
        "customer_product_matrix = merged_data.pivot_table(\n",
        "    index='CustomerID',\n",
        "    columns='ProductName',\n",
        "    values='Quantity',\n",
        "    fill_value=0\n",
        ")\n",
        "print(customer_product_matrix.head())"
      ],
      "metadata": {
        "colab": {
          "base_uri": "https://localhost:8080/"
        },
        "id": "DCQ6vENatxb7",
        "outputId": "2551bb94-ac2b-4994-c7cb-dfd925a9ce84"
      },
      "execution_count": null,
      "outputs": [
        {
          "output_type": "stream",
          "name": "stdout",
          "text": [
            "ProductName  ActiveWear Biography  ActiveWear Cookbook  \\\n",
            "CustomerID                                               \n",
            "C0001                         0.0                  0.0   \n",
            "C0002                         0.0                  0.0   \n",
            "C0003                         0.0                  0.0   \n",
            "C0004                         0.0                  0.0   \n",
            "C0005                         0.0                  0.0   \n",
            "\n",
            "ProductName  ActiveWear Cookware Set  ActiveWear Headphones  \\\n",
            "CustomerID                                                    \n",
            "C0001                            0.0                    0.0   \n",
            "C0002                            0.0                    0.0   \n",
            "C0003                            3.0                    0.0   \n",
            "C0004                            2.0                    0.0   \n",
            "C0005                            3.0                    0.0   \n",
            "\n",
            "ProductName  ActiveWear Jacket  ActiveWear Jeans  ActiveWear Rug  \\\n",
            "CustomerID                                                         \n",
            "C0001                      0.0               0.0             0.0   \n",
            "C0002                      0.0               0.0             0.0   \n",
            "C0003                      0.0               0.0             3.0   \n",
            "C0004                      0.0               0.0             0.0   \n",
            "C0005                      0.0               0.0             0.0   \n",
            "\n",
            "ProductName  ActiveWear Running Shoes  ActiveWear Smartphone  \\\n",
            "CustomerID                                                     \n",
            "C0001                             0.0                    0.0   \n",
            "C0002                             0.0                    0.0   \n",
            "C0003                             0.0                    0.0   \n",
            "C0004                             0.0                    0.0   \n",
            "C0005                             0.0                    0.0   \n",
            "\n",
            "ProductName  ActiveWear Smartwatch  ...  SoundWave Textbook  TechPro Cookbook  \\\n",
            "CustomerID                          ...                                         \n",
            "C0001                          2.0  ...                 0.0               0.0   \n",
            "C0002                          0.0  ...                 0.0               0.0   \n",
            "C0003                          4.0  ...                 0.0               0.0   \n",
            "C0004                          4.0  ...                 0.0               0.0   \n",
            "C0005                          0.0  ...                 0.0               0.0   \n",
            "\n",
            "ProductName  TechPro Headphones  TechPro Novel  TechPro Rug  \\\n",
            "CustomerID                                                    \n",
            "C0001                       3.0            0.0          0.0   \n",
            "C0002                       0.0            0.0          0.0   \n",
            "C0003                       0.0            0.0          0.0   \n",
            "C0004                       0.0            0.0          4.0   \n",
            "C0005                       0.0            0.0          0.0   \n",
            "\n",
            "ProductName  TechPro Running Shoes  TechPro Smartwatch  TechPro T-Shirt  \\\n",
            "CustomerID                                                                \n",
            "C0001                          0.0                 0.0              0.0   \n",
            "C0002                          0.0                 0.0              2.0   \n",
            "C0003                          0.0                 0.0              0.0   \n",
            "C0004                          0.0                 0.0              0.0   \n",
            "C0005                          0.0                 2.0              0.0   \n",
            "\n",
            "ProductName  TechPro Textbook  TechPro Vase  \n",
            "CustomerID                                   \n",
            "C0001                     0.0           0.0  \n",
            "C0002                     0.0           0.0  \n",
            "C0003                     0.0           0.0  \n",
            "C0004                     4.0           3.0  \n",
            "C0005                     0.0           0.0  \n",
            "\n",
            "[5 rows x 66 columns]\n"
          ]
        }
      ]
    },
    {
      "cell_type": "code",
      "source": [
        "similarity_matrix = cosine_similarity(customer_product_matrix)\n",
        "customer_ids = customer_product_matrix.index\n",
        "similarity_df = pd.DataFrame(similarity_matrix, index=customer_ids, columns=customer_ids)\n",
        "print(similarity_df.head())"
      ],
      "metadata": {
        "colab": {
          "base_uri": "https://localhost:8080/"
        },
        "id": "VRTyD2fit1qA",
        "outputId": "de5e1501-99ae-42d6-c060-9081cf155b50"
      },
      "execution_count": null,
      "outputs": [
        {
          "output_type": "stream",
          "name": "stdout",
          "text": [
            "CustomerID     C0001  C0002     C0003     C0004     C0005  C0006     C0007  \\\n",
            "CustomerID                                                                   \n",
            "C0001       1.000000    0.0  0.206559  0.210819  0.000000    0.0  0.286446   \n",
            "C0002       0.000000    1.0  0.000000  0.000000  0.000000    0.0  0.000000   \n",
            "C0003       0.206559    0.0  1.000000  0.359258  0.308697    0.0  0.110940   \n",
            "C0004       0.210819    0.0  0.359258  1.000000  0.168034    0.0  0.362329   \n",
            "C0005       0.000000    0.0  0.308697  0.168034  1.000000    0.0  0.000000   \n",
            "\n",
            "CustomerID     C0008     C0009     C0010  ...     C0191     C0192     C0193  \\\n",
            "CustomerID                                ...                                 \n",
            "C0001       0.101274  0.210819  0.000000  ...  0.123443  0.000000  0.233550   \n",
            "C0002       0.262071  0.000000  0.000000  ...  0.000000  0.000000  0.000000   \n",
            "C0003       0.313786  0.326599  0.000000  ...  0.095618  0.000000  0.000000   \n",
            "C0004       0.048038  0.266667  0.149854  ...  0.078072  0.000000  0.073855   \n",
            "C0005       0.000000  0.000000  0.000000  ...  0.000000  0.325396  0.000000   \n",
            "\n",
            "CustomerID     C0194     C0195     C0196     C0197  C0198     C0199  C0200  \n",
            "CustomerID                                                                  \n",
            "C0001       0.469668  0.000000  0.000000  0.135613    0.0  0.438178    0.0  \n",
            "C0002       0.194461  0.105851  0.000000  0.000000    0.0  0.000000    0.0  \n",
            "C0003       0.291043  0.000000  0.189737  0.000000    0.0  0.169706    0.0  \n",
            "C0004       0.316847  0.000000  0.000000  0.000000    0.0  0.092376    0.0  \n",
            "C0005       0.083189  0.000000  0.000000  0.000000    0.0  0.000000    0.0  \n",
            "\n",
            "[5 rows x 199 columns]\n"
          ]
        }
      ]
    },
    {
      "cell_type": "code",
      "source": [
        "lookalike_results = {}\n",
        "for customer in similarity_df.index[:20]:\n",
        "    similar_customers = similarity_df.loc[customer].sort_values(ascending=False).iloc[1:4]\n",
        "    lookalike_results[customer] = list(similar_customers.items())\n",
        "print(lookalike_results)"
      ],
      "metadata": {
        "colab": {
          "base_uri": "https://localhost:8080/"
        },
        "id": "tfmo7vROt8RV",
        "outputId": "4a121a92-a33b-4124-d395-ce22c64df462"
      },
      "execution_count": null,
      "outputs": [
        {
          "output_type": "stream",
          "name": "stdout",
          "text": [
            "{'C0001': [('C0050', 0.5838742081211422), ('C0097', 0.5477225575051661), ('C0105', 0.5465943944999485)], 'C0002': [('C0030', 0.6428571428571428), ('C0091', 0.3801987652174059), ('C0032', 0.3418817293789138)], 'C0003': [('C0164', 0.5547001962252291), ('C0140', 0.5487954724560282), ('C0134', 0.5199469468957452)], 'C0004': [('C0070', 0.4988876515698588), ('C0065', 0.4628257234351004), ('C0078', 0.46188021535170054)], 'C0005': [('C0096', 0.6482037235521645), ('C0164', 0.5707817929853929), ('C0055', 0.5144957554275265)], 'C0006': [('C0058', 0.6488856845230502), ('C0040', 0.5803810000880093), ('C0114', 0.47923383829852306)], 'C0007': [('C0025', 0.6689936080056726), ('C0020', 0.5883484054145521), ('C0079', 0.49613893835683387)], 'C0008': [('C0144', 0.39223227027636803), ('C0164', 0.38074980525429486), ('C0088', 0.33968311024337877)], 'C0009': [('C0056', 0.6123724356957946), ('C0140', 0.560112033611204), ('C0162', 0.5132649025747366)], 'C0010': [('C0058', 0.6488856845230502), ('C0040', 0.5803810000880093), ('C0013', 0.5419437309525751)], 'C0011': [('C0107', 0.6405126152203484), ('C0135', 0.4841820261350419), ('C0022', 0.47740991602628857)], 'C0012': [('C0110', 0.5333333333333333), ('C0101', 0.4437601569801833), ('C0055', 0.42426406871192845)], 'C0013': [('C0040', 0.5976143046671968), ('C0010', 0.5419437309525751), ('C0058', 0.5345224838248488)], 'C0014': [('C0128', 0.8944271909999159), ('C0159', 0.7844645405527362), ('C0136', 0.46188021535170054)], 'C0015': [('C0060', 0.9486832980505138), ('C0062', 0.7287986971610244), ('C0166', 0.6414269805898185)], 'C0016': [('C0196', 0.8113480845393758), ('C0187', 0.6449020216370241), ('C0052', 0.5966941897186162)], 'C0017': [('C0037', 0.55080945288825), ('C0028', 0.4291954491428779), ('C0071', 0.38490017945975047)], 'C0018': [('C0049', 0.574551657125233), ('C0177', 0.5416025603090641), ('C0020', 0.4923659639173309)], 'C0019': [('C0020', 0.6), ('C0083', 0.48989794855663565), ('C0064', 0.4879954250643349)], 'C0020': [('C0026', 0.7844645405527362), ('C0050', 0.6396021490668313), ('C0179', 0.6324555320336759)]}\n"
          ]
        }
      ]
    },
    {
      "cell_type": "code",
      "source": [
        "lookalike_data = []\n",
        "for customer, lookalikes in lookalike_results.items():\n",
        "    for similar_customer, score in lookalikes:\n",
        "        lookalike_data.append({\n",
        "            'CustomerID': customer,\n",
        "            'LookalikeID': similar_customer,\n",
        "            'SimilarityScore': score\n",
        "        })\n",
        "\n",
        "lookalike_df = pd.DataFrame(lookalike_data)\n",
        "lookalike_df.to_csv('Raghav_E_Lookalike.csv', index=False)\n",
        "print(\"Lookalike results saved to Raghav_E_Lookalike.csv\")\n"
      ],
      "metadata": {
        "colab": {
          "base_uri": "https://localhost:8080/"
        },
        "id": "ZoLzqhXTuAM5",
        "outputId": "0a2c4873-fba2-4d54-db0f-a48d47fede39"
      },
      "execution_count": null,
      "outputs": [
        {
          "output_type": "stream",
          "name": "stdout",
          "text": [
            "Lookalike results saved to Raghav_E_Lookalike.csv\n"
          ]
        }
      ]
    },
    {
      "cell_type": "code",
      "source": [
        "from google.colab import files\n",
        "files.download('Raghav_E_Lookalike.csv')"
      ],
      "metadata": {
        "colab": {
          "base_uri": "https://localhost:8080/",
          "height": 17
        },
        "id": "zaJg_7DpvWgn",
        "outputId": "39aee9fc-738d-46b3-ebc6-b7cb28413971"
      },
      "execution_count": null,
      "outputs": [
        {
          "output_type": "display_data",
          "data": {
            "text/plain": [
              "<IPython.core.display.Javascript object>"
            ],
            "application/javascript": [
              "\n",
              "    async function download(id, filename, size) {\n",
              "      if (!google.colab.kernel.accessAllowed) {\n",
              "        return;\n",
              "      }\n",
              "      const div = document.createElement('div');\n",
              "      const label = document.createElement('label');\n",
              "      label.textContent = `Downloading \"${filename}\": `;\n",
              "      div.appendChild(label);\n",
              "      const progress = document.createElement('progress');\n",
              "      progress.max = size;\n",
              "      div.appendChild(progress);\n",
              "      document.body.appendChild(div);\n",
              "\n",
              "      const buffers = [];\n",
              "      let downloaded = 0;\n",
              "\n",
              "      const channel = await google.colab.kernel.comms.open(id);\n",
              "      // Send a message to notify the kernel that we're ready.\n",
              "      channel.send({})\n",
              "\n",
              "      for await (const message of channel.messages) {\n",
              "        // Send a message to notify the kernel that we're ready.\n",
              "        channel.send({})\n",
              "        if (message.buffers) {\n",
              "          for (const buffer of message.buffers) {\n",
              "            buffers.push(buffer);\n",
              "            downloaded += buffer.byteLength;\n",
              "            progress.value = downloaded;\n",
              "          }\n",
              "        }\n",
              "      }\n",
              "      const blob = new Blob(buffers, {type: 'application/binary'});\n",
              "      const a = document.createElement('a');\n",
              "      a.href = window.URL.createObjectURL(blob);\n",
              "      a.download = filename;\n",
              "      div.appendChild(a);\n",
              "      a.click();\n",
              "      div.remove();\n",
              "    }\n",
              "  "
            ]
          },
          "metadata": {}
        },
        {
          "output_type": "display_data",
          "data": {
            "text/plain": [
              "<IPython.core.display.Javascript object>"
            ],
            "application/javascript": [
              "download(\"download_d417023d-658d-4cd0-8ee8-7a2382217038\", \"Raghav_E_Lookalike.csv\", 1891)"
            ]
          },
          "metadata": {}
        }
      ]
    },
    {
      "cell_type": "code",
      "source": [],
      "metadata": {
        "id": "pF7uzqXowZVp"
      },
      "execution_count": null,
      "outputs": []
    }
  ]
}